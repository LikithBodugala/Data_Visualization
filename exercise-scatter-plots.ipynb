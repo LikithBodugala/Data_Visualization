{
 "cells": [
  {
   "cell_type": "markdown",
   "id": "d2e3a3aa",
   "metadata": {
    "papermill": {
     "duration": 0.009019,
     "end_time": "2023-09-09T12:14:26.053247",
     "exception": false,
     "start_time": "2023-09-09T12:14:26.044228",
     "status": "completed"
    },
    "tags": []
   },
   "source": [
    "**This notebook is an exercise in the [Data Visualization](https://www.kaggle.com/learn/data-visualization) course.  You can reference the tutorial at [this link](https://www.kaggle.com/alexisbcook/scatter-plots).**\n",
    "\n",
    "---\n"
   ]
  },
  {
   "cell_type": "markdown",
   "id": "c563de0a",
   "metadata": {
    "papermill": {
     "duration": 0.008042,
     "end_time": "2023-09-09T12:14:26.069772",
     "exception": false,
     "start_time": "2023-09-09T12:14:26.061730",
     "status": "completed"
    },
    "tags": []
   },
   "source": [
    "In this exercise, you will use your new knowledge to propose a solution to a real-world scenario.  To succeed, you will need to import data into Python, answer questions using the data, and generate **scatter plots** to understand patterns in the data.\n",
    "\n",
    "## Scenario\n",
    "\n",
    "You work for a major candy producer, and your goal is to write a report that your company can use to guide the design of its next product.  Soon after starting your research, you stumble across this [very interesting dataset](https://fivethirtyeight.com/features/the-ultimate-halloween-candy-power-ranking/) containing results from a fun survey to crowdsource favorite candies.\n",
    "\n",
    "## Setup\n",
    "\n",
    "Run the next cell to import and configure the Python libraries that you need to complete the exercise."
   ]
  },
  {
   "cell_type": "code",
   "execution_count": 1,
   "id": "df1de5a3",
   "metadata": {
    "execution": {
     "iopub.execute_input": "2023-09-09T12:14:26.088097Z",
     "iopub.status.busy": "2023-09-09T12:14:26.087722Z",
     "iopub.status.idle": "2023-09-09T12:14:27.825602Z",
     "shell.execute_reply": "2023-09-09T12:14:27.824263Z"
    },
    "papermill": {
     "duration": 1.749752,
     "end_time": "2023-09-09T12:14:27.827874",
     "exception": false,
     "start_time": "2023-09-09T12:14:26.078122",
     "status": "completed"
    },
    "tags": []
   },
   "outputs": [
    {
     "name": "stdout",
     "output_type": "stream",
     "text": [
      "Setup Complete\n"
     ]
    }
   ],
   "source": [
    "import pandas as pd\n",
    "pd.plotting.register_matplotlib_converters()\n",
    "import matplotlib.pyplot as plt\n",
    "%matplotlib inline\n",
    "import seaborn as sns\n",
    "print(\"Setup Complete\")"
   ]
  },
  {
   "cell_type": "markdown",
   "id": "b020a863",
   "metadata": {
    "papermill": {
     "duration": 0.008495,
     "end_time": "2023-09-09T12:14:27.845266",
     "exception": false,
     "start_time": "2023-09-09T12:14:27.836771",
     "status": "completed"
    },
    "tags": []
   },
   "source": [
    "The questions below will give you feedback on your work. Run the following cell to set up our feedback system."
   ]
  },
  {
   "cell_type": "code",
   "execution_count": 2,
   "id": "616c4d6e",
   "metadata": {
    "execution": {
     "iopub.execute_input": "2023-09-09T12:14:27.866305Z",
     "iopub.status.busy": "2023-09-09T12:14:27.865317Z",
     "iopub.status.idle": "2023-09-09T12:14:27.932046Z",
     "shell.execute_reply": "2023-09-09T12:14:27.930571Z"
    },
    "papermill": {
     "duration": 0.079058,
     "end_time": "2023-09-09T12:14:27.933886",
     "exception": false,
     "start_time": "2023-09-09T12:14:27.854828",
     "status": "completed"
    },
    "tags": []
   },
   "outputs": [
    {
     "name": "stdout",
     "output_type": "stream",
     "text": [
      "Setup Complete\n"
     ]
    }
   ],
   "source": [
    "# Set up code checking\n",
    "import os\n",
    "if not os.path.exists(\"../input/candy.csv\"):\n",
    "    os.symlink(\"../input/data-for-datavis/candy.csv\", \"../input/candy.csv\") \n",
    "from learntools.core import binder\n",
    "binder.bind(globals())\n",
    "from learntools.data_viz_to_coder.ex4 import *\n",
    "print(\"Setup Complete\")"
   ]
  },
  {
   "cell_type": "markdown",
   "id": "6a3ef8b2",
   "metadata": {
    "papermill": {
     "duration": 0.008312,
     "end_time": "2023-09-09T12:14:27.951078",
     "exception": false,
     "start_time": "2023-09-09T12:14:27.942766",
     "status": "completed"
    },
    "tags": []
   },
   "source": [
    "## Step 1: Load the Data\n",
    "\n",
    "Read the candy data file into `candy_data`.  Use the `\"id\"` column to label the rows."
   ]
  },
  {
   "cell_type": "code",
   "execution_count": 3,
   "id": "db5c155b",
   "metadata": {
    "execution": {
     "iopub.execute_input": "2023-09-09T12:14:27.969967Z",
     "iopub.status.busy": "2023-09-09T12:14:27.969329Z",
     "iopub.status.idle": "2023-09-09T12:14:27.985755Z",
     "shell.execute_reply": "2023-09-09T12:14:27.985111Z"
    },
    "papermill": {
     "duration": 0.028452,
     "end_time": "2023-09-09T12:14:27.987986",
     "exception": false,
     "start_time": "2023-09-09T12:14:27.959534",
     "status": "completed"
    },
    "tags": []
   },
   "outputs": [
    {
     "data": {
      "application/javascript": [
       "parent.postMessage({\"jupyterEvent\": \"custom.exercise_interaction\", \"data\": {\"outcomeType\": 1, \"valueTowardsCompletion\": 0.3333333333333333, \"interactionType\": 1, \"questionType\": 1, \"questionId\": \"1_LoadData\", \"learnToolsVersion\": \"0.3.4\", \"failureMessage\": \"\", \"exceptionClass\": \"\", \"trace\": \"\"}}, \"*\")"
      ],
      "text/plain": [
       "<IPython.core.display.Javascript object>"
      ]
     },
     "metadata": {},
     "output_type": "display_data"
    },
    {
     "data": {
      "text/markdown": [
       "<span style=\"color:#33cc33\">Correct</span>"
      ],
      "text/plain": [
       "Correct"
      ]
     },
     "metadata": {},
     "output_type": "display_data"
    }
   ],
   "source": [
    "# Path of the file to read\n",
    "candy_filepath = \"../input/candy.csv\"\n",
    "\n",
    "# Fill in the line below to read the file into a variable candy_data\n",
    "candy_data = pd.read_csv(candy_filepath, index_col=\"id\")\n",
    "\n",
    "# Run the line below with no changes to check that you've loaded the data correctly\n",
    "step_1.check()"
   ]
  },
  {
   "cell_type": "code",
   "execution_count": 4,
   "id": "63684c3f",
   "metadata": {
    "execution": {
     "iopub.execute_input": "2023-09-09T12:14:28.009988Z",
     "iopub.status.busy": "2023-09-09T12:14:28.008770Z",
     "iopub.status.idle": "2023-09-09T12:14:28.013497Z",
     "shell.execute_reply": "2023-09-09T12:14:28.012627Z"
    },
    "papermill": {
     "duration": 0.017553,
     "end_time": "2023-09-09T12:14:28.015411",
     "exception": false,
     "start_time": "2023-09-09T12:14:27.997858",
     "status": "completed"
    },
    "tags": []
   },
   "outputs": [],
   "source": [
    "# Lines below will give you a hint or solution code\n",
    "#step_1.hint()\n",
    "#step_1.solution()"
   ]
  },
  {
   "cell_type": "markdown",
   "id": "32ea2cf9",
   "metadata": {
    "papermill": {
     "duration": 0.008391,
     "end_time": "2023-09-09T12:14:28.033204",
     "exception": false,
     "start_time": "2023-09-09T12:14:28.024813",
     "status": "completed"
    },
    "tags": []
   },
   "source": [
    "## Step 2: Review the data\n",
    "\n",
    "Use a Python command to print the first five rows of the data."
   ]
  },
  {
   "cell_type": "code",
   "execution_count": 5,
   "id": "9ac97843",
   "metadata": {
    "execution": {
     "iopub.execute_input": "2023-09-09T12:14:28.052276Z",
     "iopub.status.busy": "2023-09-09T12:14:28.051975Z",
     "iopub.status.idle": "2023-09-09T12:14:28.068443Z",
     "shell.execute_reply": "2023-09-09T12:14:28.067833Z"
    },
    "papermill": {
     "duration": 0.028088,
     "end_time": "2023-09-09T12:14:28.070089",
     "exception": false,
     "start_time": "2023-09-09T12:14:28.042001",
     "status": "completed"
    },
    "tags": []
   },
   "outputs": [
    {
     "data": {
      "text/html": [
       "<div>\n",
       "<style scoped>\n",
       "    .dataframe tbody tr th:only-of-type {\n",
       "        vertical-align: middle;\n",
       "    }\n",
       "\n",
       "    .dataframe tbody tr th {\n",
       "        vertical-align: top;\n",
       "    }\n",
       "\n",
       "    .dataframe thead th {\n",
       "        text-align: right;\n",
       "    }\n",
       "</style>\n",
       "<table border=\"1\" class=\"dataframe\">\n",
       "  <thead>\n",
       "    <tr style=\"text-align: right;\">\n",
       "      <th></th>\n",
       "      <th>competitorname</th>\n",
       "      <th>chocolate</th>\n",
       "      <th>fruity</th>\n",
       "      <th>caramel</th>\n",
       "      <th>peanutyalmondy</th>\n",
       "      <th>nougat</th>\n",
       "      <th>crispedricewafer</th>\n",
       "      <th>hard</th>\n",
       "      <th>bar</th>\n",
       "      <th>pluribus</th>\n",
       "      <th>sugarpercent</th>\n",
       "      <th>pricepercent</th>\n",
       "      <th>winpercent</th>\n",
       "    </tr>\n",
       "    <tr>\n",
       "      <th>id</th>\n",
       "      <th></th>\n",
       "      <th></th>\n",
       "      <th></th>\n",
       "      <th></th>\n",
       "      <th></th>\n",
       "      <th></th>\n",
       "      <th></th>\n",
       "      <th></th>\n",
       "      <th></th>\n",
       "      <th></th>\n",
       "      <th></th>\n",
       "      <th></th>\n",
       "      <th></th>\n",
       "    </tr>\n",
       "  </thead>\n",
       "  <tbody>\n",
       "    <tr>\n",
       "      <th>0</th>\n",
       "      <td>100 Grand</td>\n",
       "      <td>Yes</td>\n",
       "      <td>No</td>\n",
       "      <td>Yes</td>\n",
       "      <td>No</td>\n",
       "      <td>No</td>\n",
       "      <td>Yes</td>\n",
       "      <td>No</td>\n",
       "      <td>Yes</td>\n",
       "      <td>No</td>\n",
       "      <td>0.732</td>\n",
       "      <td>0.860</td>\n",
       "      <td>66.971725</td>\n",
       "    </tr>\n",
       "    <tr>\n",
       "      <th>1</th>\n",
       "      <td>3 Musketeers</td>\n",
       "      <td>Yes</td>\n",
       "      <td>No</td>\n",
       "      <td>No</td>\n",
       "      <td>No</td>\n",
       "      <td>Yes</td>\n",
       "      <td>No</td>\n",
       "      <td>No</td>\n",
       "      <td>Yes</td>\n",
       "      <td>No</td>\n",
       "      <td>0.604</td>\n",
       "      <td>0.511</td>\n",
       "      <td>67.602936</td>\n",
       "    </tr>\n",
       "    <tr>\n",
       "      <th>2</th>\n",
       "      <td>Air Heads</td>\n",
       "      <td>No</td>\n",
       "      <td>Yes</td>\n",
       "      <td>No</td>\n",
       "      <td>No</td>\n",
       "      <td>No</td>\n",
       "      <td>No</td>\n",
       "      <td>No</td>\n",
       "      <td>No</td>\n",
       "      <td>No</td>\n",
       "      <td>0.906</td>\n",
       "      <td>0.511</td>\n",
       "      <td>52.341465</td>\n",
       "    </tr>\n",
       "    <tr>\n",
       "      <th>3</th>\n",
       "      <td>Almond Joy</td>\n",
       "      <td>Yes</td>\n",
       "      <td>No</td>\n",
       "      <td>No</td>\n",
       "      <td>Yes</td>\n",
       "      <td>No</td>\n",
       "      <td>No</td>\n",
       "      <td>No</td>\n",
       "      <td>Yes</td>\n",
       "      <td>No</td>\n",
       "      <td>0.465</td>\n",
       "      <td>0.767</td>\n",
       "      <td>50.347546</td>\n",
       "    </tr>\n",
       "    <tr>\n",
       "      <th>4</th>\n",
       "      <td>Baby Ruth</td>\n",
       "      <td>Yes</td>\n",
       "      <td>No</td>\n",
       "      <td>Yes</td>\n",
       "      <td>Yes</td>\n",
       "      <td>Yes</td>\n",
       "      <td>No</td>\n",
       "      <td>No</td>\n",
       "      <td>Yes</td>\n",
       "      <td>No</td>\n",
       "      <td>0.604</td>\n",
       "      <td>0.767</td>\n",
       "      <td>56.914547</td>\n",
       "    </tr>\n",
       "  </tbody>\n",
       "</table>\n",
       "</div>"
      ],
      "text/plain": [
       "   competitorname chocolate fruity caramel peanutyalmondy nougat  \\\n",
       "id                                                                 \n",
       "0       100 Grand       Yes     No     Yes             No     No   \n",
       "1    3 Musketeers       Yes     No      No             No    Yes   \n",
       "2       Air Heads        No    Yes      No             No     No   \n",
       "3      Almond Joy       Yes     No      No            Yes     No   \n",
       "4       Baby Ruth       Yes     No     Yes            Yes    Yes   \n",
       "\n",
       "   crispedricewafer hard  bar pluribus  sugarpercent  pricepercent  winpercent  \n",
       "id                                                                              \n",
       "0               Yes   No  Yes       No         0.732         0.860   66.971725  \n",
       "1                No   No  Yes       No         0.604         0.511   67.602936  \n",
       "2                No   No   No       No         0.906         0.511   52.341465  \n",
       "3                No   No  Yes       No         0.465         0.767   50.347546  \n",
       "4                No   No  Yes       No         0.604         0.767   56.914547  "
      ]
     },
     "execution_count": 5,
     "metadata": {},
     "output_type": "execute_result"
    }
   ],
   "source": [
    "# Print the first five rows of the data\n",
    "____ # Your code here\n",
    "candy_data.head()"
   ]
  },
  {
   "cell_type": "markdown",
   "id": "c6091444",
   "metadata": {
    "papermill": {
     "duration": 0.008625,
     "end_time": "2023-09-09T12:14:28.087906",
     "exception": false,
     "start_time": "2023-09-09T12:14:28.079281",
     "status": "completed"
    },
    "tags": []
   },
   "source": [
    "The dataset contains 83 rows, where each corresponds to a different candy bar.  There are 13 columns:\n",
    "- `'competitorname'` contains the name of the candy bar. \n",
    "- the next **9** columns (from `'chocolate'` to `'pluribus'`) describe the candy.  For instance, rows with chocolate candies have `\"Yes\"` in the `'chocolate'` column (and candies without chocolate have `\"No\"` in the same column).\n",
    "- `'sugarpercent'` provides some indication of the amount of sugar, where higher values signify higher sugar content.\n",
    "- `'pricepercent'` shows the price per unit, relative to the other candies in the dataset.\n",
    "- `'winpercent'` is calculated from the survey results; higher values indicate that the candy was more popular with survey respondents.\n",
    "\n",
    "Use the first five rows of the data to answer the questions below."
   ]
  },
  {
   "cell_type": "code",
   "execution_count": 6,
   "id": "1a426517",
   "metadata": {
    "execution": {
     "iopub.execute_input": "2023-09-09T12:14:28.107414Z",
     "iopub.status.busy": "2023-09-09T12:14:28.106864Z",
     "iopub.status.idle": "2023-09-09T12:14:28.115345Z",
     "shell.execute_reply": "2023-09-09T12:14:28.114442Z"
    },
    "papermill": {
     "duration": 0.020493,
     "end_time": "2023-09-09T12:14:28.117234",
     "exception": false,
     "start_time": "2023-09-09T12:14:28.096741",
     "status": "completed"
    },
    "tags": []
   },
   "outputs": [
    {
     "data": {
      "application/javascript": [
       "parent.postMessage({\"jupyterEvent\": \"custom.exercise_interaction\", \"data\": {\"outcomeType\": 1, \"valueTowardsCompletion\": 0.3333333333333333, \"interactionType\": 1, \"questionType\": 1, \"questionId\": \"2_ReviewData\", \"learnToolsVersion\": \"0.3.4\", \"failureMessage\": \"\", \"exceptionClass\": \"\", \"trace\": \"\"}}, \"*\")"
      ],
      "text/plain": [
       "<IPython.core.display.Javascript object>"
      ]
     },
     "metadata": {},
     "output_type": "display_data"
    },
    {
     "data": {
      "text/markdown": [
       "<span style=\"color:#33cc33\">Correct</span>"
      ],
      "text/plain": [
       "Correct"
      ]
     },
     "metadata": {},
     "output_type": "display_data"
    }
   ],
   "source": [
    "# Fill in the line below: Which candy was more popular with survey respondents:\n",
    "# '3 Musketeers' or 'Almond Joy'?  (Please enclose your answer in single quotes.)\n",
    "more_popular = '3 Musketeers'\n",
    "\n",
    "# Fill in the line below: Which candy has higher sugar content: 'Air Heads'\n",
    "# or 'Baby Ruth'? (Please enclose your answer in single quotes.)\n",
    "more_sugar = 'Air Heads'\n",
    "\n",
    "# Check your answers\n",
    "step_2.check()"
   ]
  },
  {
   "cell_type": "code",
   "execution_count": 7,
   "id": "35a0461b",
   "metadata": {
    "execution": {
     "iopub.execute_input": "2023-09-09T12:14:28.138596Z",
     "iopub.status.busy": "2023-09-09T12:14:28.138192Z",
     "iopub.status.idle": "2023-09-09T12:14:28.142954Z",
     "shell.execute_reply": "2023-09-09T12:14:28.142080Z"
    },
    "papermill": {
     "duration": 0.018126,
     "end_time": "2023-09-09T12:14:28.145260",
     "exception": false,
     "start_time": "2023-09-09T12:14:28.127134",
     "status": "completed"
    },
    "tags": []
   },
   "outputs": [],
   "source": [
    "# Lines below will give you a hint or solution code\n",
    "#step_2.hint()\n",
    "#step_2.solution()"
   ]
  },
  {
   "cell_type": "markdown",
   "id": "a71bfc2b",
   "metadata": {
    "papermill": {
     "duration": 0.009201,
     "end_time": "2023-09-09T12:14:28.164344",
     "exception": false,
     "start_time": "2023-09-09T12:14:28.155143",
     "status": "completed"
    },
    "tags": []
   },
   "source": [
    "## Step 3: The role of sugar\n",
    "\n",
    "Do people tend to prefer candies with higher sugar content?  \n",
    "\n",
    "#### Part A\n",
    "\n",
    "Create a scatter plot that shows the relationship between `'sugarpercent'` (on the horizontal x-axis) and `'winpercent'` (on the vertical y-axis).  _Don't add a regression line just yet -- you'll do that in the next step!_"
   ]
  },
  {
   "cell_type": "code",
   "execution_count": 8,
   "id": "9ac66b86",
   "metadata": {
    "execution": {
     "iopub.execute_input": "2023-09-09T12:14:28.185389Z",
     "iopub.status.busy": "2023-09-09T12:14:28.184871Z",
     "iopub.status.idle": "2023-09-09T12:14:28.438594Z",
     "shell.execute_reply": "2023-09-09T12:14:28.436917Z"
    },
    "papermill": {
     "duration": 0.266589,
     "end_time": "2023-09-09T12:14:28.440621",
     "exception": false,
     "start_time": "2023-09-09T12:14:28.174032",
     "status": "completed"
    },
    "tags": []
   },
   "outputs": [
    {
     "data": {
      "application/javascript": [
       "parent.postMessage({\"jupyterEvent\": \"custom.exercise_interaction\", \"data\": {\"outcomeType\": 1, \"valueTowardsCompletion\": 0.3333333333333333, \"interactionType\": 1, \"questionType\": 2, \"questionId\": \"3.1_PlotBlueScatter\", \"learnToolsVersion\": \"0.3.4\", \"failureMessage\": \"\", \"exceptionClass\": \"\", \"trace\": \"\"}}, \"*\")"
      ],
      "text/plain": [
       "<IPython.core.display.Javascript object>"
      ]
     },
     "metadata": {},
     "output_type": "display_data"
    },
    {
     "data": {
      "text/markdown": [
       "<span style=\"color:#33cc33\">Correct</span>"
      ],
      "text/plain": [
       "Correct"
      ]
     },
     "metadata": {},
     "output_type": "display_data"
    },
    {
     "data": {
      "image/png": "[encoded data removed]",
      "text/plain": [
       "<Figure size 640x480 with 1 Axes>"
      ]
     },
     "metadata": {},
     "output_type": "display_data"
    }
   ],
   "source": [
    "# Scatter plot showing the relationship between 'sugarpercent' and 'winpercent'\n",
    "____ # Your code here\n",
    "sns.scatterplot(x=candy_data['sugarpercent'], y=candy_data['winpercent'])\n",
    "\n",
    "# Check your answer\n",
    "step_3.a.check()"
   ]
  },
  {
   "cell_type": "code",
   "execution_count": 9,
   "id": "442dbd0f",
   "metadata": {
    "execution": {
     "iopub.execute_input": "2023-09-09T12:14:28.462114Z",
     "iopub.status.busy": "2023-09-09T12:14:28.461237Z",
     "iopub.status.idle": "2023-09-09T12:14:28.466002Z",
     "shell.execute_reply": "2023-09-09T12:14:28.464969Z"
    },
    "papermill": {
     "duration": 0.017274,
     "end_time": "2023-09-09T12:14:28.467801",
     "exception": false,
     "start_time": "2023-09-09T12:14:28.450527",
     "status": "completed"
    },
    "tags": []
   },
   "outputs": [],
   "source": [
    "# Lines below will give you a hint or solution code\n",
    "#step_3.a.hint()\n",
    "#step_3.a.solution_plot()"
   ]
  },
  {
   "cell_type": "markdown",
   "id": "1a577416",
   "metadata": {
    "papermill": {
     "duration": 0.009262,
     "end_time": "2023-09-09T12:14:28.486934",
     "exception": false,
     "start_time": "2023-09-09T12:14:28.477672",
     "status": "completed"
    },
    "tags": []
   },
   "source": [
    "#### Part B\n",
    "\n",
    "Does the scatter plot show a **strong** correlation between the two variables?  If so, are candies with more sugar relatively more or less popular with the survey respondents?"
   ]
  },
  {
   "cell_type": "code",
   "execution_count": 10,
   "id": "0a7cf239",
   "metadata": {
    "execution": {
     "iopub.execute_input": "2023-09-09T12:14:28.507556Z",
     "iopub.status.busy": "2023-09-09T12:14:28.507231Z",
     "iopub.status.idle": "2023-09-09T12:14:28.511719Z",
     "shell.execute_reply": "2023-09-09T12:14:28.510714Z"
    },
    "papermill": {
     "duration": 0.01748,
     "end_time": "2023-09-09T12:14:28.513942",
     "exception": false,
     "start_time": "2023-09-09T12:14:28.496462",
     "status": "completed"
    },
    "tags": []
   },
   "outputs": [],
   "source": [
    "#step_3.b.hint()"
   ]
  },
  {
   "cell_type": "code",
   "execution_count": 11,
   "id": "5a986c13",
   "metadata": {
    "execution": {
     "iopub.execute_input": "2023-09-09T12:14:28.535246Z",
     "iopub.status.busy": "2023-09-09T12:14:28.534900Z",
     "iopub.status.idle": "2023-09-09T12:14:28.544622Z",
     "shell.execute_reply": "2023-09-09T12:14:28.542754Z"
    },
    "papermill": {
     "duration": 0.022891,
     "end_time": "2023-09-09T12:14:28.546963",
     "exception": false,
     "start_time": "2023-09-09T12:14:28.524072",
     "status": "completed"
    },
    "tags": []
   },
   "outputs": [
    {
     "data": {
      "application/javascript": [
       "parent.postMessage({\"jupyterEvent\": \"custom.exercise_interaction\", \"data\": {\"interactionType\": 3, \"questionType\": 4, \"questionId\": \"3.2_ThinkBlueScatter\", \"learnToolsVersion\": \"0.3.4\", \"valueTowardsCompletion\": 0.0, \"failureMessage\": \"\", \"exceptionClass\": \"\", \"trace\": \"\", \"outcomeType\": 4}}, \"*\")"
      ],
      "text/plain": [
       "<IPython.core.display.Javascript object>"
      ]
     },
     "metadata": {},
     "output_type": "display_data"
    },
    {
     "data": {
      "text/markdown": [
       "<span style=\"color:#33cc99\">Solution:</span> The scatter plot does not show a strong correlation between the two variables. Since there is no clear relationship between the two variables, this tells us that sugar content does not play a strong role in candy popularity."
      ],
      "text/plain": [
       "Solution: The scatter plot does not show a strong correlation between the two variables. Since there is no clear relationship between the two variables, this tells us that sugar content does not play a strong role in candy popularity."
      ]
     },
     "metadata": {},
     "output_type": "display_data"
    }
   ],
   "source": [
    "# Check your answer (Run this code cell to receive credit!)\n",
    "step_3.b.solution()"
   ]
  },
  {
   "cell_type": "markdown",
   "id": "d7e2326c",
   "metadata": {
    "papermill": {
     "duration": 0.010578,
     "end_time": "2023-09-09T12:14:28.568741",
     "exception": false,
     "start_time": "2023-09-09T12:14:28.558163",
     "status": "completed"
    },
    "tags": []
   },
   "source": [
    "## Step 4: Take a closer look\n",
    "\n",
    "#### Part A\n",
    "\n",
    "Create the same scatter plot you created in **Step 3**, but now with a regression line!"
   ]
  },
  {
   "cell_type": "code",
   "execution_count": 12,
   "id": "8c898f84",
   "metadata": {
    "execution": {
     "iopub.execute_input": "2023-09-09T12:14:28.591540Z",
     "iopub.status.busy": "2023-09-09T12:14:28.591187Z",
     "iopub.status.idle": "2023-09-09T12:14:28.881743Z",
     "shell.execute_reply": "2023-09-09T12:14:28.880727Z"
    },
    "papermill": {
     "duration": 0.304955,
     "end_time": "2023-09-09T12:14:28.884699",
     "exception": false,
     "start_time": "2023-09-09T12:14:28.579744",
     "status": "completed"
    },
    "tags": []
   },
   "outputs": [
    {
     "data": {
      "application/javascript": [
       "parent.postMessage({\"jupyterEvent\": \"custom.exercise_interaction\", \"data\": {\"outcomeType\": 1, \"valueTowardsCompletion\": 0.3333333333333333, \"interactionType\": 1, \"questionType\": 2, \"questionId\": \"4.1_PlotBlueReg\", \"learnToolsVersion\": \"0.3.4\", \"failureMessage\": \"\", \"exceptionClass\": \"\", \"trace\": \"\"}}, \"*\")"
      ],
      "text/plain": [
       "<IPython.core.display.Javascript object>"
      ]
     },
     "metadata": {},
     "output_type": "display_data"
    },
    {
     "data": {
      "text/markdown": [
       "<span style=\"color:#33cc33\">Correct</span>"
      ],
      "text/plain": [
       "Correct"
      ]
     },
     "metadata": {},
     "output_type": "display_data"
    },
    {
     "data": {
      "image/png": "[encoded data removed]",
      "text/plain": [
       "<Figure size 640x480 with 1 Axes>"
      ]
     },
     "metadata": {},
     "output_type": "display_data"
    }
   ],
   "source": [
    "# Scatter plot w/ regression line showing the relationship between 'sugarpercent' and 'winpercent'\n",
    "____ # Your code here\n",
    "sns.regplot(x=candy_data['sugarpercent'], y=candy_data['winpercent'])\n",
    "\n",
    "# Check your answer\n",
    "step_4.a.check()"
   ]
  },
  {
   "cell_type": "code",
   "execution_count": 13,
   "id": "f2305cbe",
   "metadata": {
    "execution": {
     "iopub.execute_input": "2023-09-09T12:14:28.965159Z",
     "iopub.status.busy": "2023-09-09T12:14:28.964772Z",
     "iopub.status.idle": "2023-09-09T12:14:28.969463Z",
     "shell.execute_reply": "2023-09-09T12:14:28.968424Z"
    },
    "papermill": {
     "duration": 0.018849,
     "end_time": "2023-09-09T12:14:28.971661",
     "exception": false,
     "start_time": "2023-09-09T12:14:28.952812",
     "status": "completed"
    },
    "tags": []
   },
   "outputs": [],
   "source": [
    "# Lines below will give you a hint or solution code\n",
    "#step_4.a.hint()\n",
    "#step_4.a.solution_plot()"
   ]
  },
  {
   "cell_type": "markdown",
   "id": "a824d1bf",
   "metadata": {
    "papermill": {
     "duration": 0.010402,
     "end_time": "2023-09-09T12:14:28.993615",
     "exception": false,
     "start_time": "2023-09-09T12:14:28.983213",
     "status": "completed"
    },
    "tags": []
   },
   "source": [
    "#### Part B\n",
    "\n",
    "According to the plot above, is there a **slight** correlation between `'winpercent'` and `'sugarpercent'`?  What does this tell you about the candy that people tend to prefer?"
   ]
  },
  {
   "cell_type": "code",
   "execution_count": 14,
   "id": "b3600c4e",
   "metadata": {
    "execution": {
     "iopub.execute_input": "2023-09-09T12:14:29.016432Z",
     "iopub.status.busy": "2023-09-09T12:14:29.016072Z",
     "iopub.status.idle": "2023-09-09T12:14:29.020745Z",
     "shell.execute_reply": "2023-09-09T12:14:29.019743Z"
    },
    "papermill": {
     "duration": 0.018823,
     "end_time": "2023-09-09T12:14:29.023132",
     "exception": false,
     "start_time": "2023-09-09T12:14:29.004309",
     "status": "completed"
    },
    "tags": []
   },
   "outputs": [],
   "source": [
    "#step_4.b.hint()"
   ]
  },
  {
   "cell_type": "code",
   "execution_count": 15,
   "id": "efce1cda",
   "metadata": {
    "execution": {
     "iopub.execute_input": "2023-09-09T12:14:29.047543Z",
     "iopub.status.busy": "2023-09-09T12:14:29.046672Z",
     "iopub.status.idle": "2023-09-09T12:14:29.054064Z",
     "shell.execute_reply": "2023-09-09T12:14:29.053228Z"
    },
    "papermill": {
     "duration": 0.021876,
     "end_time": "2023-09-09T12:14:29.056352",
     "exception": false,
     "start_time": "2023-09-09T12:14:29.034476",
     "status": "completed"
    },
    "tags": []
   },
   "outputs": [
    {
     "data": {
      "application/javascript": [
       "parent.postMessage({\"jupyterEvent\": \"custom.exercise_interaction\", \"data\": {\"interactionType\": 3, \"questionType\": 4, \"questionId\": \"4.2_ThinkBlueReg\", \"learnToolsVersion\": \"0.3.4\", \"valueTowardsCompletion\": 0.0, \"failureMessage\": \"\", \"exceptionClass\": \"\", \"trace\": \"\", \"outcomeType\": 4}}, \"*\")"
      ],
      "text/plain": [
       "<IPython.core.display.Javascript object>"
      ]
     },
     "metadata": {},
     "output_type": "display_data"
    },
    {
     "data": {
      "text/markdown": [
       "<span style=\"color:#33cc99\">Solution:</span> Since the regression line has a slightly positive slope, this tells us that there is a slightly positive correlation between `'winpercent'` and `'sugarpercent'`. Thus, people have a slight preference for candies containing relatively more sugar."
      ],
      "text/plain": [
       "Solution: Since the regression line has a slightly positive slope, this tells us that there is a slightly positive correlation between `'winpercent'` and `'sugarpercent'`. Thus, people have a slight preference for candies containing relatively more sugar."
      ]
     },
     "metadata": {},
     "output_type": "display_data"
    }
   ],
   "source": [
    "# Check your answer (Run this code cell to receive credit!)\n",
    "step_4.b.solution()"
   ]
  },
  {
   "cell_type": "markdown",
   "id": "5379c8fb",
   "metadata": {
    "papermill": {
     "duration": 0.010833,
     "end_time": "2023-09-09T12:14:29.078965",
     "exception": false,
     "start_time": "2023-09-09T12:14:29.068132",
     "status": "completed"
    },
    "tags": []
   },
   "source": [
    "## Step 5: Chocolate!\n",
    "\n",
    "In the code cell below, create a scatter plot to show the relationship between `'pricepercent'` (on the horizontal x-axis) and `'winpercent'` (on the vertical y-axis). Use the `'chocolate'` column to color-code the points.  _Don't add any regression lines just yet -- you'll do that in the next step!_"
   ]
  },
  {
   "cell_type": "code",
   "execution_count": 16,
   "id": "cf385f64",
   "metadata": {
    "execution": {
     "iopub.execute_input": "2023-09-09T12:14:29.102871Z",
     "iopub.status.busy": "2023-09-09T12:14:29.102515Z",
     "iopub.status.idle": "2023-09-09T12:14:29.380578Z",
     "shell.execute_reply": "2023-09-09T12:14:29.379316Z"
    },
    "papermill": {
     "duration": 0.292674,
     "end_time": "2023-09-09T12:14:29.382759",
     "exception": false,
     "start_time": "2023-09-09T12:14:29.090085",
     "status": "completed"
    },
    "tags": []
   },
   "outputs": [
    {
     "data": {
      "application/javascript": [
       "parent.postMessage({\"jupyterEvent\": \"custom.exercise_interaction\", \"data\": {\"outcomeType\": 1, \"valueTowardsCompletion\": 0.3333333333333333, \"interactionType\": 1, \"questionType\": 2, \"questionId\": \"5_ColorScatter\", \"learnToolsVersion\": \"0.3.4\", \"failureMessage\": \"\", \"exceptionClass\": \"\", \"trace\": \"\"}}, \"*\")"
      ],
      "text/plain": [
       "<IPython.core.display.Javascript object>"
      ]
     },
     "metadata": {},
     "output_type": "display_data"
    },
    {
     "data": {
      "text/markdown": [
       "<span style=\"color:#33cc33\">Correct</span>"
      ],
      "text/plain": [
       "Correct"
      ]
     },
     "metadata": {},
     "output_type": "display_data"
    },
    {
     "data": {
      "image/png": "[encoded data removed]",
      "text/plain": [
       "<Figure size 640x480 with 1 Axes>"
      ]
     },
     "metadata": {},
     "output_type": "display_data"
    }
   ],
   "source": [
    "# Scatter plot showing the relationship between 'pricepercent', 'winpercent', and 'chocolate'\n",
    "____ # Your code here\n",
    "sns.scatterplot(x=candy_data['pricepercent'], y=candy_data['winpercent'], hue=candy_data['chocolate'])\n",
    "\n",
    "# Check your answer\n",
    "step_5.check()"
   ]
  },
  {
   "cell_type": "code",
   "execution_count": 17,
   "id": "6a7d9573",
   "metadata": {
    "execution": {
     "iopub.execute_input": "2023-09-09T12:14:29.408453Z",
     "iopub.status.busy": "2023-09-09T12:14:29.408091Z",
     "iopub.status.idle": "2023-09-09T12:14:29.413316Z",
     "shell.execute_reply": "2023-09-09T12:14:29.412190Z"
    },
    "papermill": {
     "duration": 0.020352,
     "end_time": "2023-09-09T12:14:29.415598",
     "exception": false,
     "start_time": "2023-09-09T12:14:29.395246",
     "status": "completed"
    },
    "tags": []
   },
   "outputs": [],
   "source": [
    "# Lines below will give you a hint or solution code\n",
    "#step_5.hint()\n",
    "#step_5.solution_plot()"
   ]
  },
  {
   "cell_type": "markdown",
   "id": "95e90f8c",
   "metadata": {
    "papermill": {
     "duration": 0.013167,
     "end_time": "2023-09-09T12:14:29.441883",
     "exception": false,
     "start_time": "2023-09-09T12:14:29.428716",
     "status": "completed"
    },
    "tags": []
   },
   "source": [
    "Can you see any interesting patterns in the scatter plot?  We'll investigate this plot further  by adding regression lines in the next step!\n",
    "\n",
    "## Step 6: Investigate chocolate\n",
    "\n",
    "#### Part A\n",
    "\n",
    "Create the same scatter plot you created in **Step 5**, but now with two regression lines, corresponding to (1) chocolate candies and (2) candies without chocolate."
   ]
  },
  {
   "cell_type": "code",
   "execution_count": 18,
   "id": "4a1e34e6",
   "metadata": {
    "execution": {
     "iopub.execute_input": "2023-09-09T12:14:29.468330Z",
     "iopub.status.busy": "2023-09-09T12:14:29.467417Z",
     "iopub.status.idle": "2023-09-09T12:14:30.075705Z",
     "shell.execute_reply": "2023-09-09T12:14:30.074353Z"
    },
    "papermill": {
     "duration": 0.623716,
     "end_time": "2023-09-09T12:14:30.077777",
     "exception": false,
     "start_time": "2023-09-09T12:14:29.454061",
     "status": "completed"
    },
    "tags": []
   },
   "outputs": [
    {
     "data": {
      "application/javascript": [
       "parent.postMessage({\"jupyterEvent\": \"custom.exercise_interaction\", \"data\": {\"outcomeType\": 1, \"valueTowardsCompletion\": 0.3333333333333333, \"interactionType\": 1, \"questionType\": 2, \"questionId\": \"6.1_PlotColorReg\", \"learnToolsVersion\": \"0.3.4\", \"failureMessage\": \"\", \"exceptionClass\": \"\", \"trace\": \"\"}}, \"*\")"
      ],
      "text/plain": [
       "<IPython.core.display.Javascript object>"
      ]
     },
     "metadata": {},
     "output_type": "display_data"
    },
    {
     "data": {
      "text/markdown": [
       "<span style=\"color:#33cc33\">Correct</span>"
      ],
      "text/plain": [
       "Correct"
      ]
     },
     "metadata": {},
     "output_type": "display_data"
    },
    {
     "data": {
      "image/png": "[encoded data removed]",
      "text/plain": [
       "<Figure size 578.611x500 with 1 Axes>"
      ]
     },
     "metadata": {},
     "output_type": "display_data"
    }
   ],
   "source": [
    "# Color-coded scatter plot w/ regression lines\n",
    "____ # Your code here \n",
    "sns.lmplot(x=\"pricepercent\", y=\"winpercent\", hue=\"chocolate\", data=candy_data)\n",
    "\n",
    "# Check your answer\n",
    "step_6.a.check()"
   ]
  },
  {
   "cell_type": "code",
   "execution_count": 19,
   "id": "617e7b47",
   "metadata": {
    "execution": {
     "iopub.execute_input": "2023-09-09T12:14:30.104543Z",
     "iopub.status.busy": "2023-09-09T12:14:30.104222Z",
     "iopub.status.idle": "2023-09-09T12:14:30.108524Z",
     "shell.execute_reply": "2023-09-09T12:14:30.107570Z"
    },
    "papermill": {
     "duration": 0.020134,
     "end_time": "2023-09-09T12:14:30.110510",
     "exception": false,
     "start_time": "2023-09-09T12:14:30.090376",
     "status": "completed"
    },
    "tags": []
   },
   "outputs": [],
   "source": [
    "# Lines below will give you a hint or solution code\n",
    "#step_6.a.hint()\n",
    "#step_6.a.solution_plot()"
   ]
  },
  {
   "cell_type": "markdown",
   "id": "d2876835",
   "metadata": {
    "papermill": {
     "duration": 0.01201,
     "end_time": "2023-09-09T12:14:30.135490",
     "exception": false,
     "start_time": "2023-09-09T12:14:30.123480",
     "status": "completed"
    },
    "tags": []
   },
   "source": [
    "#### Part B\n",
    "\n",
    "Using the regression lines, what conclusions can you draw about the effects of chocolate and price on candy popularity?"
   ]
  },
  {
   "cell_type": "code",
   "execution_count": 20,
   "id": "4565ed91",
   "metadata": {
    "execution": {
     "iopub.execute_input": "2023-09-09T12:14:30.162012Z",
     "iopub.status.busy": "2023-09-09T12:14:30.161667Z",
     "iopub.status.idle": "2023-09-09T12:14:30.166265Z",
     "shell.execute_reply": "2023-09-09T12:14:30.165000Z"
    },
    "papermill": {
     "duration": 0.020414,
     "end_time": "2023-09-09T12:14:30.168359",
     "exception": false,
     "start_time": "2023-09-09T12:14:30.147945",
     "status": "completed"
    },
    "tags": []
   },
   "outputs": [],
   "source": [
    "#step_6.b.hint()"
   ]
  },
  {
   "cell_type": "code",
   "execution_count": 21,
   "id": "efedf02d",
   "metadata": {
    "execution": {
     "iopub.execute_input": "2023-09-09T12:14:30.195518Z",
     "iopub.status.busy": "2023-09-09T12:14:30.195161Z",
     "iopub.status.idle": "2023-09-09T12:14:30.203687Z",
     "shell.execute_reply": "2023-09-09T12:14:30.202342Z"
    },
    "papermill": {
     "duration": 0.024709,
     "end_time": "2023-09-09T12:14:30.205919",
     "exception": false,
     "start_time": "2023-09-09T12:14:30.181210",
     "status": "completed"
    },
    "tags": []
   },
   "outputs": [
    {
     "data": {
      "application/javascript": [
       "parent.postMessage({\"jupyterEvent\": \"custom.exercise_interaction\", \"data\": {\"interactionType\": 3, \"questionType\": 4, \"questionId\": \"6.2_ThinkColorReg\", \"learnToolsVersion\": \"0.3.4\", \"valueTowardsCompletion\": 0.0, \"failureMessage\": \"\", \"exceptionClass\": \"\", \"trace\": \"\", \"outcomeType\": 4}}, \"*\")"
      ],
      "text/plain": [
       "<IPython.core.display.Javascript object>"
      ]
     },
     "metadata": {},
     "output_type": "display_data"
    },
    {
     "data": {
      "text/markdown": [
       "<span style=\"color:#33cc99\">Solution:</span> We'll begin with the regression line for chocolate candies. Since this line has a slightly positive slope, we can say that more expensive chocolate candies tend to be more popular (than relatively cheaper chocolate candies).  Likewise, since the regression line for candies without chocolate has a negative slope, we can say that if candies don't contain chocolate, they tend to be more popular when they are cheaper.  One important note, however, is that the dataset is quite small -- so we shouldn't invest too much trust in these patterns!  To inspire more confidence in the results, we should add more candies to the dataset."
      ],
      "text/plain": [
       "Solution: We'll begin with the regression line for chocolate candies. Since this line has a slightly positive slope, we can say that more expensive chocolate candies tend to be more popular (than relatively cheaper chocolate candies).  Likewise, since the regression line for candies without chocolate has a negative slope, we can say that if candies don't contain chocolate, they tend to be more popular when they are cheaper.  One important note, however, is that the dataset is quite small -- so we shouldn't invest too much trust in these patterns!  To inspire more confidence in the results, we should add more candies to the dataset."
      ]
     },
     "metadata": {},
     "output_type": "display_data"
    }
   ],
   "source": [
    "# Check your answer (Run this code cell to receive credit!)\n",
    "step_6.b.solution()"
   ]
  },
  {
   "cell_type": "markdown",
   "id": "813fa2e9",
   "metadata": {
    "papermill": {
     "duration": 0.012304,
     "end_time": "2023-09-09T12:14:30.231231",
     "exception": false,
     "start_time": "2023-09-09T12:14:30.218927",
     "status": "completed"
    },
    "tags": []
   },
   "source": [
    "## Step 7: Everybody loves chocolate.\n",
    "\n",
    "#### Part A\n",
    "\n",
    "Create a categorical scatter plot to highlight the relationship between `'chocolate'` and `'winpercent'`.  Put `'chocolate'` on the (horizontal) x-axis, and `'winpercent'` on the (vertical) y-axis."
   ]
  },
  {
   "cell_type": "code",
   "execution_count": 22,
   "id": "17adb7ac",
   "metadata": {
    "execution": {
     "iopub.execute_input": "2023-09-09T12:14:30.258183Z",
     "iopub.status.busy": "2023-09-09T12:14:30.257839Z",
     "iopub.status.idle": "2023-09-09T12:14:30.544460Z",
     "shell.execute_reply": "2023-09-09T12:14:30.543730Z"
    },
    "papermill": {
     "duration": 0.302463,
     "end_time": "2023-09-09T12:14:30.546341",
     "exception": false,
     "start_time": "2023-09-09T12:14:30.243878",
     "status": "completed"
    },
    "tags": []
   },
   "outputs": [
    {
     "data": {
      "application/javascript": [
       "parent.postMessage({\"jupyterEvent\": \"custom.exercise_interaction\", \"data\": {\"outcomeType\": 1, \"valueTowardsCompletion\": 0.3333333333333333, \"interactionType\": 1, \"questionType\": 2, \"questionId\": \"7.1_PlotSwarm\", \"learnToolsVersion\": \"0.3.4\", \"failureMessage\": \"\", \"exceptionClass\": \"\", \"trace\": \"\"}}, \"*\")"
      ],
      "text/plain": [
       "<IPython.core.display.Javascript object>"
      ]
     },
     "metadata": {},
     "output_type": "display_data"
    },
    {
     "data": {
      "text/markdown": [
       "<span style=\"color:#33cc33\">Correct</span>"
      ],
      "text/plain": [
       "Correct"
      ]
     },
     "metadata": {},
     "output_type": "display_data"
    },
    {
     "data": {
      "image/png": "[encoded data removed]",
      "text/plain": [
       "<Figure size 640x480 with 1 Axes>"
      ]
     },
     "metadata": {},
     "output_type": "display_data"
    }
   ],
   "source": [
    "# Scatter plot showing the relationship between 'chocolate' and 'winpercent'\n",
    "____ # Your code here\n",
    "sns.swarmplot(x=candy_data['chocolate'], y=candy_data['winpercent'])\n",
    "\n",
    "# Check your answer\n",
    "step_7.a.check()"
   ]
  },
  {
   "cell_type": "code",
   "execution_count": 23,
   "id": "2cdf2180",
   "metadata": {
    "execution": {
     "iopub.execute_input": "2023-09-09T12:14:30.582228Z",
     "iopub.status.busy": "2023-09-09T12:14:30.581582Z",
     "iopub.status.idle": "2023-09-09T12:14:30.585231Z",
     "shell.execute_reply": "2023-09-09T12:14:30.584560Z"
    },
    "papermill": {
     "duration": 0.023441,
     "end_time": "2023-09-09T12:14:30.586897",
     "exception": false,
     "start_time": "2023-09-09T12:14:30.563456",
     "status": "completed"
    },
    "tags": []
   },
   "outputs": [],
   "source": [
    "# Lines below will give you a hint or solution code\n",
    "#step_7.a.hint()\n",
    "#step_7.a.solution_plot()"
   ]
  },
  {
   "cell_type": "markdown",
   "id": "559c9499",
   "metadata": {
    "papermill": {
     "duration": 0.015682,
     "end_time": "2023-09-09T12:14:30.619104",
     "exception": false,
     "start_time": "2023-09-09T12:14:30.603422",
     "status": "completed"
    },
    "tags": []
   },
   "source": [
    "#### Part B\n",
    "\n",
    "You decide to dedicate a section of your report to the fact that chocolate candies tend to be more popular than candies without chocolate.  Which plot is more appropriate to tell this story: the plot from **Step 6**, or the plot from **Step 7**?"
   ]
  },
  {
   "cell_type": "code",
   "execution_count": 24,
   "id": "b6791322",
   "metadata": {
    "execution": {
     "iopub.execute_input": "2023-09-09T12:14:30.646073Z",
     "iopub.status.busy": "2023-09-09T12:14:30.645732Z",
     "iopub.status.idle": "2023-09-09T12:14:30.649151Z",
     "shell.execute_reply": "2023-09-09T12:14:30.648523Z"
    },
    "papermill": {
     "duration": 0.018962,
     "end_time": "2023-09-09T12:14:30.650867",
     "exception": false,
     "start_time": "2023-09-09T12:14:30.631905",
     "status": "completed"
    },
    "tags": []
   },
   "outputs": [],
   "source": [
    "#step_7.b.hint()"
   ]
  },
  {
   "cell_type": "code",
   "execution_count": 25,
   "id": "feab1d03",
   "metadata": {
    "execution": {
     "iopub.execute_input": "2023-09-09T12:14:30.678982Z",
     "iopub.status.busy": "2023-09-09T12:14:30.678610Z",
     "iopub.status.idle": "2023-09-09T12:14:30.685754Z",
     "shell.execute_reply": "2023-09-09T12:14:30.684890Z"
    },
    "papermill": {
     "duration": 0.024173,
     "end_time": "2023-09-09T12:14:30.688364",
     "exception": false,
     "start_time": "2023-09-09T12:14:30.664191",
     "status": "completed"
    },
    "tags": []
   },
   "outputs": [
    {
     "data": {
      "application/javascript": [
       "parent.postMessage({\"jupyterEvent\": \"custom.exercise_interaction\", \"data\": {\"interactionType\": 3, \"questionType\": 4, \"questionId\": \"7.2_ThinkSwarm\", \"learnToolsVersion\": \"0.3.4\", \"valueTowardsCompletion\": 0.0, \"failureMessage\": \"\", \"exceptionClass\": \"\", \"trace\": \"\", \"outcomeType\": 4}}, \"*\")"
      ],
      "text/plain": [
       "<IPython.core.display.Javascript object>"
      ]
     },
     "metadata": {},
     "output_type": "display_data"
    },
    {
     "data": {
      "text/markdown": [
       "<span style=\"color:#33cc99\">Solution:</span> In this case, the categorical scatter plot from **Step 7** is the more appropriate plot. While both plots tell the desired story, the plot from **Step 6** conveys far more information that could distract from the main point."
      ],
      "text/plain": [
       "Solution: In this case, the categorical scatter plot from **Step 7** is the more appropriate plot. While both plots tell the desired story, the plot from **Step 6** conveys far more information that could distract from the main point."
      ]
     },
     "metadata": {},
     "output_type": "display_data"
    }
   ],
   "source": [
    "# Check your answer (Run this code cell to receive credit!)\n",
    "step_7.b.solution()"
   ]
  },
  {
   "cell_type": "markdown",
   "id": "0d3a3141",
   "metadata": {
    "papermill": {
     "duration": 0.013485,
     "end_time": "2023-09-09T12:14:30.715758",
     "exception": false,
     "start_time": "2023-09-09T12:14:30.702273",
     "status": "completed"
    },
    "tags": []
   },
   "source": [
    "## Keep going\n",
    "\n",
    "Explore **[histograms and density plots](https://www.kaggle.com/alexisbcook/distributions)**."
   ]
  },
  {
   "cell_type": "markdown",
   "id": "55ffebd5",
   "metadata": {
    "papermill": {
     "duration": 0.0133,
     "end_time": "2023-09-09T12:14:30.742833",
     "exception": false,
     "start_time": "2023-09-09T12:14:30.729533",
     "status": "completed"
    },
    "tags": []
   },
   "source": [
    "---\n",
    "\n",
    "\n",
    "\n",
    "\n",
    "*Have questions or comments? Visit the [course discussion forum](https://www.kaggle.com/learn/data-visualization/discussion) to chat with other learners.*"
   ]
  }
 ],
 "kernelspec": {
  "display_name": "Python 3",
  "language": "python",
  "name": "python3"
 },
 "language_info": {
  "codemirror_mode": {
   "name": "ipython",
   "version": 3
  },
  "file_extension": ".py",
  "mimetype": "text/x-python",
  "name": "python",
  "nbconvert_exporter": "python",
  "pygments_lexer": "ipython3",
  "version": "3.6.4"
 },
 "metadata": {
  "kernelspec": {
   "display_name": "Python 3",
   "language": "python",
   "name": "python3"
  },
  "language_info": {
   "codemirror_mode": {
    "name": "ipython",
    "version": 3
   },
   "file_extension": ".py",
   "mimetype": "text/x-python",
   "name": "python",
   "nbconvert_exporter": "python",
   "pygments_lexer": "ipython3",
   "version": "3.10.12"
  },
  "papermill": {
   "default_parameters": {},
   "duration": 7.962721,
   "end_time": "2023-09-09T12:14:31.276560",
   "environment_variables": {},
   "exception": null,
   "input_path": "__notebook__.ipynb",
   "output_path": "__notebook__.ipynb",
   "parameters": {},
   "start_time": "2023-09-09T12:14:23.313839",
   "version": "2.4.0"
  }
 },
 "nbformat": 4,
 "nbformat_minor": 5
}
