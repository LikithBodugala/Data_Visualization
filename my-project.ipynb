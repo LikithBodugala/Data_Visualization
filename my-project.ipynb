{
 "cells": [
  {
   "cell_type": "code",
   "execution_count": 1,
   "id": "68f1d72c",
   "metadata": {
    "_cell_guid": "b1076dfc-b9ad-4769-8c92-a6c4dae69d19",
    "_uuid": "8f2839f25d086af736a60e9eeb907d3b93b6e0e5",
    "execution": {
     "iopub.execute_input": "2023-09-10T04:16:23.761422Z",
     "iopub.status.busy": "2023-09-10T04:16:23.760619Z",
     "iopub.status.idle": "2023-09-10T04:16:25.552599Z",
     "shell.execute_reply": "2023-09-10T04:16:25.549994Z"
    },
    "papermill": {
     "duration": 1.802307,
     "end_time": "2023-09-10T04:16:25.554997",
     "exception": false,
     "start_time": "2023-09-10T04:16:23.752690",
     "status": "completed"
    },
    "tags": []
   },
   "outputs": [
    {
     "name": "stdout",
     "output_type": "stream",
     "text": [
      "Setup Complete\n"
     ]
    }
   ],
   "source": [
    "# This Python 3 environment comes with many helpful analytics libraries installed\n",
    "# It is defined by the kaggle/python Docker image: https://github.com/kaggle/docker-python\n",
    "# For example, here's several helpful packages to load\n",
    "\n",
    "import numpy as np # linear algebra\n",
    "import pandas as pd # data processing, CSV file I/O (e.g. pd.read_csv)\n",
    "\n",
    "# Input data files are available in the read-only \"../input/\" directory\n",
    "# For example, running this (by clicking run or pressing Shift+Enter) will list all files under the input directory\n",
    "\n",
    "pd.plotting.register_matplotlib_converters()\n",
    "import matplotlib.pyplot as plt\n",
    "%matplotlib inline\n",
    "import seaborn as sns\n",
    "print(\"Setup Complete\")\n",
    "# You can write up to 20GB to the current directory (/kaggle/working/) that gets preserved as output when you create a version using \"Save & Run All\" \n",
    "# You can also write temporary files to /kaggle/temp/, but they won't be saved outside of the current session"
   ]
  },
  {
   "cell_type": "code",
   "execution_count": 2,
   "id": "a80d870e",
   "metadata": {
    "execution": {
     "iopub.execute_input": "2023-09-10T04:16:25.566488Z",
     "iopub.status.busy": "2023-09-10T04:16:25.565924Z",
     "iopub.status.idle": "2023-09-10T04:16:25.603032Z",
     "shell.execute_reply": "2023-09-10T04:16:25.602284Z"
    },
    "papermill": {
     "duration": 0.045545,
     "end_time": "2023-09-10T04:16:25.605582",
     "exception": false,
     "start_time": "2023-09-10T04:16:25.560037",
     "status": "completed"
    },
    "tags": []
   },
   "outputs": [
    {
     "name": "stdout",
     "output_type": "stream",
     "text": [
      "Setup Complete\n"
     ]
    }
   ],
   "source": [
    "# Set up code checking\n",
    "from learntools.core import binder\n",
    "binder.bind(globals())\n",
    "from learntools.data_viz_to_coder.ex7 import *\n",
    "print(\"Setup Complete\")"
   ]
  },
  {
   "cell_type": "markdown",
   "id": "69798b02",
   "metadata": {
    "papermill": {
     "duration": 0.00445,
     "end_time": "2023-09-10T04:16:25.614834",
     "exception": false,
     "start_time": "2023-09-10T04:16:25.610384",
     "status": "completed"
    },
    "tags": []
   },
   "source": [
    "**Step 1: Attach a dataset to the notebook**"
   ]
  },
  {
   "cell_type": "code",
   "execution_count": 3,
   "id": "67c898bc",
   "metadata": {
    "execution": {
     "iopub.execute_input": "2023-09-10T04:16:25.625567Z",
     "iopub.status.busy": "2023-09-10T04:16:25.625122Z",
     "iopub.status.idle": "2023-09-10T04:16:25.636502Z",
     "shell.execute_reply": "2023-09-10T04:16:25.635691Z"
    },
    "papermill": {
     "duration": 0.019143,
     "end_time": "2023-09-10T04:16:25.638395",
     "exception": false,
     "start_time": "2023-09-10T04:16:25.619252",
     "status": "completed"
    },
    "tags": []
   },
   "outputs": [
    {
     "data": {
      "application/javascript": [
       "parent.postMessage({\"jupyterEvent\": \"custom.exercise_interaction\", \"data\": {\"outcomeType\": 1, \"valueTowardsCompletion\": 0.25, \"interactionType\": 1, \"questionType\": 2, \"questionId\": \"1_AttachData\", \"learnToolsVersion\": \"0.3.4\", \"failureMessage\": \"\", \"exceptionClass\": \"\", \"trace\": \"\"}}, \"*\")"
      ],
      "text/plain": [
       "<IPython.core.display.Javascript object>"
      ]
     },
     "metadata": {},
     "output_type": "display_data"
    },
    {
     "data": {
      "text/markdown": [
       "<span style=\"color:#33cc33\">Correct:</span> \n",
       "\n"
      ],
      "text/plain": [
       "Correct: \n"
      ]
     },
     "metadata": {},
     "output_type": "display_data"
    }
   ],
   "source": [
    "# Check for a dataset with a CSV file\n",
    "step_1.check()"
   ]
  },
  {
   "cell_type": "markdown",
   "id": "0779feee",
   "metadata": {
    "papermill": {
     "duration": 0.004636,
     "end_time": "2023-09-10T04:16:25.648098",
     "exception": false,
     "start_time": "2023-09-10T04:16:25.643462",
     "status": "completed"
    },
    "tags": []
   },
   "source": [
    "**Step 2: Specify the filepath**"
   ]
  },
  {
   "cell_type": "code",
   "execution_count": 4,
   "id": "a819289f",
   "metadata": {
    "execution": {
     "iopub.execute_input": "2023-09-10T04:16:25.659769Z",
     "iopub.status.busy": "2023-09-10T04:16:25.659334Z",
     "iopub.status.idle": "2023-09-10T04:16:25.669418Z",
     "shell.execute_reply": "2023-09-10T04:16:25.668435Z"
    },
    "papermill": {
     "duration": 0.018387,
     "end_time": "2023-09-10T04:16:25.671491",
     "exception": false,
     "start_time": "2023-09-10T04:16:25.653104",
     "status": "completed"
    },
    "tags": []
   },
   "outputs": [
    {
     "data": {
      "application/javascript": [
       "parent.postMessage({\"jupyterEvent\": \"custom.exercise_interaction\", \"data\": {\"outcomeType\": 4, \"interactionType\": 1, \"questionType\": 2, \"questionId\": \"2_Filepath\", \"learnToolsVersion\": \"0.3.4\", \"valueTowardsCompletion\": 0.0, \"failureMessage\": \"\", \"exceptionClass\": \"\", \"trace\": \"\"}}, \"*\")"
      ],
      "text/plain": [
       "<IPython.core.display.Javascript object>"
      ]
     },
     "metadata": {},
     "output_type": "display_data"
    },
    {
     "data": {
      "text/markdown": [
       "<span style=\"color:#ccaa33\">Check:</span> When you've updated the starter code, `check()` will tell you whether your code is correct. Remember, you must create the following variable: `my_filepath`"
      ],
      "text/plain": [
       "Check: When you've updated the starter code, `check()` will tell you whether your code is correct. Remember, you must create the following variable: `my_filepath`"
      ]
     },
     "metadata": {},
     "output_type": "display_data"
    }
   ],
   "source": [
    "#Specify the path of the CSV file to read\n",
    "my_file = \"/kaggle/input/nba-player-statistics/nba_data_processed.csv\"\n",
    "# Check for a valid filepath to a CSV file in a dataset\n",
    "step_2.check()\n"
   ]
  },
  {
   "cell_type": "markdown",
   "id": "c8cd5304",
   "metadata": {
    "papermill": {
     "duration": 0.004897,
     "end_time": "2023-09-10T04:16:25.681739",
     "exception": false,
     "start_time": "2023-09-10T04:16:25.676842",
     "status": "completed"
    },
    "tags": []
   },
   "source": [
    "**Step 3: Load the data**"
   ]
  },
  {
   "cell_type": "code",
   "execution_count": 5,
   "id": "7806b0a9",
   "metadata": {
    "execution": {
     "iopub.execute_input": "2023-09-10T04:16:25.693925Z",
     "iopub.status.busy": "2023-09-10T04:16:25.693490Z",
     "iopub.status.idle": "2023-09-10T04:16:25.720597Z",
     "shell.execute_reply": "2023-09-10T04:16:25.719438Z"
    },
    "papermill": {
     "duration": 0.037009,
     "end_time": "2023-09-10T04:16:25.723911",
     "exception": false,
     "start_time": "2023-09-10T04:16:25.686902",
     "status": "completed"
    },
    "tags": []
   },
   "outputs": [
    {
     "data": {
      "application/javascript": [
       "parent.postMessage({\"jupyterEvent\": \"custom.exercise_interaction\", \"data\": {\"outcomeType\": 1, \"valueTowardsCompletion\": 0.25, \"interactionType\": 1, \"questionType\": 2, \"questionId\": \"3_LoadData\", \"learnToolsVersion\": \"0.3.4\", \"failureMessage\": \"\", \"exceptionClass\": \"\", \"trace\": \"\"}}, \"*\")"
      ],
      "text/plain": [
       "<IPython.core.display.Javascript object>"
      ]
     },
     "metadata": {},
     "output_type": "display_data"
    },
    {
     "data": {
      "text/markdown": [
       "<span style=\"color:#33cc33\">Correct:</span> \n",
       "\n"
      ],
      "text/plain": [
       "Correct: \n"
      ]
     },
     "metadata": {},
     "output_type": "display_data"
    }
   ],
   "source": [
    "#Read the file into a variable my_data\n",
    "my_data = pd.read_csv(my_file)\n",
    "\n",
    "# Check that a dataset has been uploaded into my_data\n",
    "step_3.check()"
   ]
  },
  {
   "cell_type": "code",
   "execution_count": 6,
   "id": "e7a5aa85",
   "metadata": {
    "execution": {
     "iopub.execute_input": "2023-09-10T04:16:25.738447Z",
     "iopub.status.busy": "2023-09-10T04:16:25.737862Z",
     "iopub.status.idle": "2023-09-10T04:16:25.777558Z",
     "shell.execute_reply": "2023-09-10T04:16:25.776403Z"
    },
    "papermill": {
     "duration": 0.049674,
     "end_time": "2023-09-10T04:16:25.779741",
     "exception": false,
     "start_time": "2023-09-10T04:16:25.730067",
     "status": "completed"
    },
    "tags": []
   },
   "outputs": [
    {
     "data": {
      "text/html": [
       "<div>\n",
       "<style scoped>\n",
       "    .dataframe tbody tr th:only-of-type {\n",
       "        vertical-align: middle;\n",
       "    }\n",
       "\n",
       "    .dataframe tbody tr th {\n",
       "        vertical-align: top;\n",
       "    }\n",
       "\n",
       "    .dataframe thead th {\n",
       "        text-align: right;\n",
       "    }\n",
       "</style>\n",
       "<table border=\"1\" class=\"dataframe\">\n",
       "  <thead>\n",
       "    <tr style=\"text-align: right;\">\n",
       "      <th></th>\n",
       "      <th>Player</th>\n",
       "      <th>Pos</th>\n",
       "      <th>Age</th>\n",
       "      <th>Tm</th>\n",
       "      <th>G</th>\n",
       "      <th>GS</th>\n",
       "      <th>MP</th>\n",
       "      <th>FG</th>\n",
       "      <th>FGA</th>\n",
       "      <th>FG%</th>\n",
       "      <th>...</th>\n",
       "      <th>FT%</th>\n",
       "      <th>ORB</th>\n",
       "      <th>DRB</th>\n",
       "      <th>TRB</th>\n",
       "      <th>AST</th>\n",
       "      <th>STL</th>\n",
       "      <th>BLK</th>\n",
       "      <th>TOV</th>\n",
       "      <th>PF</th>\n",
       "      <th>PTS</th>\n",
       "    </tr>\n",
       "  </thead>\n",
       "  <tbody>\n",
       "    <tr>\n",
       "      <th>0</th>\n",
       "      <td>Precious Achiuwa</td>\n",
       "      <td>C</td>\n",
       "      <td>23.0</td>\n",
       "      <td>TOR</td>\n",
       "      <td>55.0</td>\n",
       "      <td>12.0</td>\n",
       "      <td>20.7</td>\n",
       "      <td>3.6</td>\n",
       "      <td>7.3</td>\n",
       "      <td>0.485</td>\n",
       "      <td>...</td>\n",
       "      <td>0.702</td>\n",
       "      <td>1.8</td>\n",
       "      <td>4.1</td>\n",
       "      <td>6.0</td>\n",
       "      <td>0.9</td>\n",
       "      <td>0.6</td>\n",
       "      <td>0.5</td>\n",
       "      <td>1.1</td>\n",
       "      <td>1.9</td>\n",
       "      <td>9.2</td>\n",
       "    </tr>\n",
       "    <tr>\n",
       "      <th>1</th>\n",
       "      <td>Steven Adams</td>\n",
       "      <td>C</td>\n",
       "      <td>29.0</td>\n",
       "      <td>MEM</td>\n",
       "      <td>42.0</td>\n",
       "      <td>42.0</td>\n",
       "      <td>27.0</td>\n",
       "      <td>3.7</td>\n",
       "      <td>6.3</td>\n",
       "      <td>0.597</td>\n",
       "      <td>...</td>\n",
       "      <td>0.364</td>\n",
       "      <td>5.1</td>\n",
       "      <td>6.5</td>\n",
       "      <td>11.5</td>\n",
       "      <td>2.3</td>\n",
       "      <td>0.9</td>\n",
       "      <td>1.1</td>\n",
       "      <td>1.9</td>\n",
       "      <td>2.3</td>\n",
       "      <td>8.6</td>\n",
       "    </tr>\n",
       "    <tr>\n",
       "      <th>2</th>\n",
       "      <td>Bam Adebayo</td>\n",
       "      <td>C</td>\n",
       "      <td>25.0</td>\n",
       "      <td>MIA</td>\n",
       "      <td>75.0</td>\n",
       "      <td>75.0</td>\n",
       "      <td>34.6</td>\n",
       "      <td>8.0</td>\n",
       "      <td>14.9</td>\n",
       "      <td>0.540</td>\n",
       "      <td>...</td>\n",
       "      <td>0.806</td>\n",
       "      <td>2.5</td>\n",
       "      <td>6.7</td>\n",
       "      <td>9.2</td>\n",
       "      <td>3.2</td>\n",
       "      <td>1.2</td>\n",
       "      <td>0.8</td>\n",
       "      <td>2.5</td>\n",
       "      <td>2.8</td>\n",
       "      <td>20.4</td>\n",
       "    </tr>\n",
       "    <tr>\n",
       "      <th>3</th>\n",
       "      <td>Ochai Agbaji</td>\n",
       "      <td>SG</td>\n",
       "      <td>22.0</td>\n",
       "      <td>UTA</td>\n",
       "      <td>59.0</td>\n",
       "      <td>22.0</td>\n",
       "      <td>20.5</td>\n",
       "      <td>2.8</td>\n",
       "      <td>6.5</td>\n",
       "      <td>0.427</td>\n",
       "      <td>...</td>\n",
       "      <td>0.812</td>\n",
       "      <td>0.7</td>\n",
       "      <td>1.3</td>\n",
       "      <td>2.1</td>\n",
       "      <td>1.1</td>\n",
       "      <td>0.3</td>\n",
       "      <td>0.3</td>\n",
       "      <td>0.7</td>\n",
       "      <td>1.7</td>\n",
       "      <td>7.9</td>\n",
       "    </tr>\n",
       "    <tr>\n",
       "      <th>4</th>\n",
       "      <td>Santi Aldama</td>\n",
       "      <td>PF</td>\n",
       "      <td>22.0</td>\n",
       "      <td>MEM</td>\n",
       "      <td>77.0</td>\n",
       "      <td>20.0</td>\n",
       "      <td>21.8</td>\n",
       "      <td>3.2</td>\n",
       "      <td>6.8</td>\n",
       "      <td>0.470</td>\n",
       "      <td>...</td>\n",
       "      <td>0.750</td>\n",
       "      <td>1.1</td>\n",
       "      <td>3.7</td>\n",
       "      <td>4.8</td>\n",
       "      <td>1.3</td>\n",
       "      <td>0.6</td>\n",
       "      <td>0.6</td>\n",
       "      <td>0.8</td>\n",
       "      <td>1.9</td>\n",
       "      <td>9.0</td>\n",
       "    </tr>\n",
       "  </tbody>\n",
       "</table>\n",
       "<p>5 rows × 29 columns</p>\n",
       "</div>"
      ],
      "text/plain": [
       "             Player Pos   Age   Tm     G    GS    MP   FG   FGA    FG%  ...  \\\n",
       "0  Precious Achiuwa   C  23.0  TOR  55.0  12.0  20.7  3.6   7.3  0.485  ...   \n",
       "1      Steven Adams   C  29.0  MEM  42.0  42.0  27.0  3.7   6.3  0.597  ...   \n",
       "2       Bam Adebayo   C  25.0  MIA  75.0  75.0  34.6  8.0  14.9  0.540  ...   \n",
       "3      Ochai Agbaji  SG  22.0  UTA  59.0  22.0  20.5  2.8   6.5  0.427  ...   \n",
       "4      Santi Aldama  PF  22.0  MEM  77.0  20.0  21.8  3.2   6.8  0.470  ...   \n",
       "\n",
       "     FT%  ORB  DRB   TRB  AST  STL  BLK  TOV   PF   PTS  \n",
       "0  0.702  1.8  4.1   6.0  0.9  0.6  0.5  1.1  1.9   9.2  \n",
       "1  0.364  5.1  6.5  11.5  2.3  0.9  1.1  1.9  2.3   8.6  \n",
       "2  0.806  2.5  6.7   9.2  3.2  1.2  0.8  2.5  2.8  20.4  \n",
       "3  0.812  0.7  1.3   2.1  1.1  0.3  0.3  0.7  1.7   7.9  \n",
       "4  0.750  1.1  3.7   4.8  1.3  0.6  0.6  0.8  1.9   9.0  \n",
       "\n",
       "[5 rows x 29 columns]"
      ]
     },
     "execution_count": 6,
     "metadata": {},
     "output_type": "execute_result"
    }
   ],
   "source": [
    "# Print the first five rows of the data\n",
    "my_data.head()"
   ]
  },
  {
   "cell_type": "markdown",
   "id": "6b5febaf",
   "metadata": {
    "papermill": {
     "duration": 0.005345,
     "end_time": "2023-09-10T04:16:25.790984",
     "exception": false,
     "start_time": "2023-09-10T04:16:25.785639",
     "status": "completed"
    },
    "tags": []
   },
   "source": [
    "**Step 4: Visualize the data**"
   ]
  },
  {
   "cell_type": "code",
   "execution_count": 7,
   "id": "978e35cf",
   "metadata": {
    "execution": {
     "iopub.execute_input": "2023-09-10T04:16:25.804094Z",
     "iopub.status.busy": "2023-09-10T04:16:25.803694Z",
     "iopub.status.idle": "2023-09-10T04:16:27.964145Z",
     "shell.execute_reply": "2023-09-10T04:16:27.962947Z"
    },
    "papermill": {
     "duration": 2.170075,
     "end_time": "2023-09-10T04:16:27.966516",
     "exception": false,
     "start_time": "2023-09-10T04:16:25.796441",
     "status": "completed"
    },
    "tags": []
   },
   "outputs": [
    {
     "data": {
      "application/javascript": [
       "parent.postMessage({\"jupyterEvent\": \"custom.exercise_interaction\", \"data\": {\"outcomeType\": 1, \"valueTowardsCompletion\": 0.25, \"interactionType\": 1, \"questionType\": 2, \"questionId\": \"4_CreatePlot\", \"learnToolsVersion\": \"0.3.4\", \"failureMessage\": \"\", \"exceptionClass\": \"\", \"trace\": \"\"}}, \"*\")"
      ],
      "text/plain": [
       "<IPython.core.display.Javascript object>"
      ]
     },
     "metadata": {},
     "output_type": "display_data"
    },
    {
     "data": {
      "text/markdown": [
       "<span style=\"color:#33cc33\">Correct:</span> \n",
       "\n"
      ],
      "text/plain": [
       "Correct: \n"
      ]
     },
     "metadata": {},
     "output_type": "display_data"
    },
    {
     "data": {
      "image/png": "[encoded data removed]",
      "text/plain": [
       "<Figure size 1600x600 with 1 Axes>"
      ]
     },
     "metadata": {},
     "output_type": "display_data"
    }
   ],
   "source": [
    "# Create a plot\n",
    "plt.figure(figsize=(16,6))\n",
    "sns.barplot(data=my_data) \n",
    "\n",
    "# Check that a figure appears below\n",
    "step_4.check()"
   ]
  }
 ],
 "kernelspec": {
  "display_name": "Python 3",
  "language": "python",
  "name": "python3"
 },
 "language_info": {
  "codemirror_mode": {
   "name": "ipython",
   "version": 3
  },
  "file_extension": ".py",
  "mimetype": "text/x-python",
  "name": "python",
  "nbconvert_exporter": "python",
  "pygments_lexer": "ipython3",
  "version": "3.6.4"
 },
 "metadata": {
  "kernelspec": {
   "display_name": "Python 3",
   "language": "python",
   "name": "python3"
  },
  "language_info": {
   "codemirror_mode": {
    "name": "ipython",
    "version": 3
   },
   "file_extension": ".py",
   "mimetype": "text/x-python",
   "name": "python",
   "nbconvert_exporter": "python",
   "pygments_lexer": "ipython3",
   "version": "3.10.12"
  },
  "papermill": {
   "default_parameters": {},
   "duration": 8.228624,
   "end_time": "2023-09-10T04:16:28.594484",
   "environment_variables": {},
   "exception": null,
   "input_path": "__notebook__.ipynb",
   "output_path": "__notebook__.ipynb",
   "parameters": {},
   "start_time": "2023-09-10T04:16:20.365860",
   "version": "2.4.0"
  }
 },
 "nbformat": 4,
 "nbformat_minor": 5
}
